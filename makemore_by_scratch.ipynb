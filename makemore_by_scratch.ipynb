{
 "cells": [
  {
   "cell_type": "code",
   "execution_count": 153,
   "id": "e924a149-1ca2-41b3-86fc-345f532af316",
   "metadata": {},
   "outputs": [],
   "source": [
    "import torch\n",
    "import torch.nn as nn\n",
    "import torch.nn.functional as F\n",
    "import random\n",
    "import numpy as np\n",
    "import matplotlib.pyplot as plt"
   ]
  },
  {
   "cell_type": "code",
   "execution_count": 155,
   "id": "e444d9fb-3a20-4b90-92d3-b85306bac812",
   "metadata": {},
   "outputs": [],
   "source": [
    "with open('all.txt', 'r') as f:\n",
    "    words = f.read().splitlines()\n",
    "\n",
    "words = [w.strip().lower() for w in words if w.strip()]\n",
    "\n",
    "seen = set()\n",
    "unique_words = []\n",
    "for word in words:\n",
    "    if word not in seen:\n",
    "        seen.add(word)\n",
    "        unique_words.append(word)\n",
    "words = unique_words"
   ]
  },
  {
   "cell_type": "code",
   "execution_count": 157,
   "id": "1ed770cf-08cc-4677-8ae8-076a52a67456",
   "metadata": {},
   "outputs": [
    {
     "name": "stdout",
     "output_type": "stream",
     "text": [
      "Characters: [' ', \"'\", '-', '?', 'a', 'b', 'c', 'd', 'e', 'f', 'g', 'h', 'i', 'j', 'k', 'l', 'm', 'n', 'o', 'p', 'q', 'r', 's', 't', 'u', 'v', 'w', 'x', 'y', 'z', '¡', '§', '±', '»', '¿', 'ã', 'å', 'ï']\n",
      "stoi: {' ': 1, \"'\": 2, '-': 3, '?': 4, 'a': 5, 'b': 6, 'c': 7, 'd': 8, 'e': 9, 'f': 10, 'g': 11, 'h': 12, 'i': 13, 'j': 14, 'k': 15, 'l': 16, 'm': 17, 'n': 18, 'o': 19, 'p': 20, 'q': 21, 'r': 22, 's': 23, 't': 24, 'u': 25, 'v': 26, 'w': 27, 'x': 28, 'y': 29, 'z': 30, '¡': 31, '§': 32, '±': 33, '»': 34, '¿': 35, 'ã': 36, 'å': 37, 'ï': 38, '.': 0}\n",
      "Vocabulary size: 39\n"
     ]
    }
   ],
   "source": [
    "chars = sorted(list(set(''.join(words))))\n",
    "vocab_size = len(chars) + 1  \n",
    "\n",
    "stoi = {ch: i+1 for i, ch in enumerate(chars)}  \n",
    "stoi['.'] = 0  \n",
    "\n",
    "itos = {i: ch for ch, i in stoi.items()}  \n",
    "\n",
    "print(\"Characters:\", chars)\n",
    "print(\"stoi:\", stoi)\n",
    "print(\"Vocabulary size:\", vocab_size)"
   ]
  },
  {
   "cell_type": "code",
   "execution_count": 159,
   "id": "d585bed6-07c9-4862-b97e-dbf7b26f1de9",
   "metadata": {},
   "outputs": [],
   "source": [
    "def encode(s):\n",
    "    return [stoi[c] for c in s]\n",
    "\n",
    "def decode(indices):\n",
    "    return ''.join([itos[i] for i in indices])"
   ]
  },
  {
   "cell_type": "code",
   "execution_count": 161,
   "id": "594d775e-9a61-418b-a2e3-13fb87ce0005",
   "metadata": {},
   "outputs": [
    {
     "name": "stdout",
     "output_type": "stream",
     "text": [
      "[9, 17, 17, 5, 0]\n",
      "acc .\n"
     ]
    }
   ],
   "source": [
    "print(encode(\"emma.\"))    \n",
    "print(decode([5, 7, 7, 1, 0]))"
   ]
  },
  {
   "cell_type": "code",
   "execution_count": 163,
   "id": "531de239-92e0-44df-8dcd-beb6c7f7a965",
   "metadata": {},
   "outputs": [
    {
     "name": "stdout",
     "output_type": "stream",
     "text": [
      "Input shape: torch.Size([145835, 3])\n",
      "Target shape: torch.Size([145835])\n",
      "Example X[0]: [0, 0, 0] -> Target Y[0]: 38 ( ï )\n"
     ]
    }
   ],
   "source": [
    "context_size = 3  \n",
    "\n",
    "X, Y = [], []\n",
    "\n",
    "for word in words:\n",
    "    context = [0] * context_size  \n",
    "    for ch in word + '.':  \n",
    "        ix = stoi[ch]\n",
    "        X.append(context)    \n",
    "        Y.append(ix)         \n",
    "        context = context[1:] + [ix]  \n",
    "\n",
    "X = torch.tensor(X)\n",
    "Y = torch.tensor(Y)\n",
    "\n",
    "print(\"Input shape:\", X.shape)\n",
    "print(\"Target shape:\", Y.shape)\n",
    "print(\"Example X[0]:\", X[0].tolist(), \"->\", \"Target Y[0]:\", Y[0].item(), \"(\", decode([Y[0].item()]), \")\")"
   ]
  },
  {
   "cell_type": "code",
   "execution_count": 164,
   "id": "f25a7227-2755-4df0-af52-16b0d3aab45d",
   "metadata": {},
   "outputs": [],
   "source": [
    "class NameMLP(nn.Module):\n",
    "    def __init__(self, vocab_size, context_size, embedding_dim=10, hidden_dim=100):\n",
    "        super().__init__()\n",
    "        self.embedding = nn.Embedding(vocab_size, embedding_dim)  \n",
    "        self.fc1 = nn.Linear(context_size * embedding_dim, hidden_dim)\n",
    "        self.fc2 = nn.Linear(hidden_dim, vocab_size)\n",
    "\n",
    "    def forward(self, x):\n",
    "        emb = self.embedding(x)             \n",
    "        emb = emb.view(emb.shape[0], -1)    \n",
    "        hidden = F.relu(self.fc1(emb))      \n",
    "        logits = self.fc2(hidden)           \n",
    "        return logits"
   ]
  },
  {
   "cell_type": "code",
   "execution_count": 165,
   "id": "891b7d97-b658-48d8-9f09-779f33a4d5a6",
   "metadata": {},
   "outputs": [],
   "source": [
    "model = NameMLP(vocab_size=vocab_size, context_size=context_size)"
   ]
  },
  {
   "cell_type": "code",
   "execution_count": 166,
   "id": "421a4cb5-8dee-4d34-b60b-0236b4c89bfb",
   "metadata": {},
   "outputs": [
    {
     "name": "stdout",
     "output_type": "stream",
     "text": [
      "Epoch 1/200, Loss: 3.6865\n",
      "Epoch 21/200, Loss: 2.5313\n",
      "Epoch 41/200, Loss: 2.3975\n",
      "Epoch 61/200, Loss: 2.3402\n",
      "Epoch 81/200, Loss: 2.3083\n",
      "Epoch 101/200, Loss: 2.2869\n",
      "Epoch 121/200, Loss: 2.2712\n",
      "Epoch 141/200, Loss: 2.2586\n",
      "Epoch 161/200, Loss: 2.2487\n",
      "Epoch 181/200, Loss: 2.2397\n",
      "Epoch 200/200, Loss: 2.2329\n"
     ]
    }
   ],
   "source": [
    "loss_fn = nn.CrossEntropyLoss()\n",
    "optimizer = torch.optim.Adam(model.parameters(), lr=0.01)\n",
    "\n",
    "epochs = 200\n",
    "losses = []\n",
    "\n",
    "for epoch in range(epochs):\n",
    "    logits = model(X)\n",
    "    loss = loss_fn(logits, Y)\n",
    "\n",
    "    optimizer.zero_grad()\n",
    "    loss.backward()\n",
    "    optimizer.step()\n",
    "\n",
    "    losses.append(loss.item())\n",
    "\n",
    "    if epoch % 20 == 0 or epoch == epochs - 1:\n",
    "        print(f\"Epoch {epoch+1}/{epochs}, Loss: {loss.item():.4f}\")"
   ]
  },
  {
   "cell_type": "code",
   "execution_count": 167,
   "id": "5425580b-aa7a-449b-90c2-1e3e349f46b7",
   "metadata": {},
   "outputs": [
    {
     "data": {
      "image/png": "[encoded data removed]",
      "text/plain": [
       "<Figure size 640x480 with 1 Axes>"
      ]
     },
     "metadata": {},
     "output_type": "display_data"
    }
   ],
   "source": [
    "plt.plot(losses)\n",
    "plt.xlabel(\"Epoch\")\n",
    "plt.ylabel(\"Loss\")\n",
    "plt.title(\"Training Loss Curve\")\n",
    "plt.grid(True)\n",
    "plt.show()"
   ]
  },
  {
   "cell_type": "code",
   "execution_count": 168,
   "id": "70d6339d-8dfe-480c-b7f1-123cdcd4abc6",
   "metadata": {},
   "outputs": [],
   "source": [
    "def sample(model, max_length=20, num_names=10):\n",
    "    model.eval()  \n",
    "    \n",
    "    for _ in range(num_names):\n",
    "        context = [0] * context_size  \n",
    "        name = []\n",
    "\n",
    "        for _ in range(max_length):\n",
    "            x = torch.tensor([context])\n",
    "            logits = model(x)\n",
    "            probs = F.softmax(logits, dim=1)\n",
    "            ix = torch.multinomial(probs, num_samples=1).item()  \n",
    "\n",
    "            if ix == 0:  \n",
    "                break\n",
    "\n",
    "            name.append(itos[ix])\n",
    "            context = context[1:] + [ix]  \n",
    "\n",
    "        print(''.join(name))\n",
    "\n",
    "    model.train()  "
   ]
  },
  {
   "cell_type": "code",
   "execution_count": 169,
   "id": "a8bb0509-9bea-4a2d-b490-d572b813db08",
   "metadata": {},
   "outputs": [
    {
     "name": "stdout",
     "output_type": "stream",
     "text": [
      "qian\n",
      "erfingweidus\n",
      "shuema\n",
      "magatio\n",
      "sutanria\n",
      "wil\n",
      "mitauleonasharsise\n",
      "xiao\n",
      "yuder\n",
      "crisalin\n"
     ]
    }
   ],
   "source": [
    "sample(model, num_names=10)"
   ]
  },
  {
   "cell_type": "code",
   "execution_count": 170,
   "id": "d4720ed4-61ea-4b20-85fd-8b557844661f",
   "metadata": {},
   "outputs": [
    {
     "name": "stdout",
     "output_type": "stream",
     "text": [
      "Model saved to makemore_mlp.pt\n"
     ]
    }
   ],
   "source": [
    "torch.save(model.state_dict(), 'makemore_mlp.pt')\n",
    "print(\"Model saved to makemore_mlp.pt\")"
   ]
  },
  {
   "cell_type": "code",
   "execution_count": 171,
   "id": "7c94815e-2814-400f-8f8a-ad894ab0a538",
   "metadata": {},
   "outputs": [],
   "source": [
    "def sample_advanced(model, max_length=20, num_names=10, temperature=1.0, top_k=None):\n",
    "    model.eval()\n",
    "\n",
    "    for _ in range(num_names):\n",
    "        context = [0] * context_size\n",
    "        name = []\n",
    "\n",
    "        for _ in range(max_length):\n",
    "            x = torch.tensor([context])\n",
    "            logits = model(x)\n",
    "\n",
    "            logits = logits / temperature\n",
    "\n",
    "            if top_k is not None:\n",
    "                topk_vals, topk_idx = torch.topk(logits, k=top_k)\n",
    "                logits_filtered = torch.full_like(logits, float('-inf'))\n",
    "                logits_filtered.scatter_(1, topk_idx, topk_vals)\n",
    "                probs = F.softmax(logits_filtered, dim=1)\n",
    "            else:\n",
    "                probs = F.softmax(logits, dim=1)\n",
    "\n",
    "            ix = torch.multinomial(probs, num_samples=1).item()\n",
    "\n",
    "            if ix == 0:\n",
    "                break\n",
    "\n",
    "            name.append(itos[ix])\n",
    "            context = context[1:] + [ix]\n",
    "\n",
    "        print(''.join(name))\n",
    "\n",
    "    model.train()"
   ]
  },
  {
   "cell_type": "code",
   "execution_count": 173,
   "id": "cc072081-c11e-4319-90ee-466e7edc0b7a",
   "metadata": {},
   "outputs": [
    {
     "name": "stdout",
     "output_type": "stream",
     "text": [
      "Temperature = 1.5, Top-k = 5\n",
      "emmara\n",
      "lucion\n",
      "alesar\n",
      "mounasima\n",
      "lossandruchrine\n",
      "solongamiangaldinete\n",
      "ariana\n",
      "miroustas\n",
      "anta\n",
      "essam\n",
      "\n",
      " Temperature = 0.7, Top-k = 10\n",
      "marcene\n",
      "caro\n",
      "sia\n",
      "jameline\n",
      "bachaida\n",
      "moum\n",
      "abda\n",
      "mehta\n",
      "larickit\n",
      "dadilianne\n"
     ]
    }
   ],
   "source": [
    "print(\"Temperature = 1.5, Top-k = 5\")\n",
    "sample_advanced(model, num_names=10, temperature=1.5, top_k=5)\n",
    "\n",
    "print(\"\\n Temperature = 0.7, Top-k = 10\")\n",
    "sample_advanced(model, num_names=10, temperature=0.7, top_k=10)"
   ]
  },
  {
   "cell_type": "code",
   "execution_count": 176,
   "id": "c4f32f70-d8ed-4793-b04d-9d9cc328c527",
   "metadata": {},
   "outputs": [
    {
     "name": "stdout",
     "output_type": "stream",
     "text": [
      "Train: 116668, Dev: 14583, Test: 14584\n"
     ]
    }
   ],
   "source": [
    "import random\n",
    "\n",
    "random.seed(42)\n",
    "num_data = len(X)  \n",
    "indices = list(range(num_data))\n",
    "random.shuffle(indices)\n",
    "\n",
    "n_train = int(0.8 * num_data)\n",
    "n_dev = int(0.1 * num_data)\n",
    "\n",
    "train_idx = indices[:n_train]\n",
    "dev_idx = indices[n_train:n_train + n_dev]\n",
    "test_idx = indices[n_train + n_dev:]\n",
    "\n",
    "X_train, Y_train = X[train_idx], Y[train_idx]\n",
    "X_dev, Y_dev = X[dev_idx], Y[dev_idx]\n",
    "X_test, Y_test = X[test_idx], Y[test_idx]\n",
    "\n",
    "print(f\"Train: {len(X_train)}, Dev: {len(X_dev)}, Test: {len(X_test)}\")"
   ]
  },
  {
   "cell_type": "code",
   "execution_count": 177,
   "id": "db0752e2-1d42-4d99-af1d-4f9877387c8f",
   "metadata": {},
   "outputs": [],
   "source": [
    "def get_batch(split, batch_size=32):\n",
    "    if split == 'train':\n",
    "        X_data, Y_data = X_train, Y_train\n",
    "    elif split == 'dev':\n",
    "        X_data, Y_data = X_dev, Y_dev\n",
    "    else:\n",
    "        X_data, Y_data = X_test, Y_test\n",
    "\n",
    "    idx = torch.randint(0, len(X_data), (batch_size,))\n",
    "    xb = X_data[idx]\n",
    "    yb = Y_data[idx]\n",
    "    return xb, yb"
   ]
  },
  {
   "cell_type": "code",
   "execution_count": 178,
   "id": "1c8a809c-bac4-459f-ab40-27ef830e1395",
   "metadata": {},
   "outputs": [
    {
     "name": "stdout",
     "output_type": "stream",
     "text": [
      "torch.Size([32, 3]) torch.Size([32])\n"
     ]
    }
   ],
   "source": [
    "xb, yb = get_batch('train', batch_size=32)\n",
    "print(xb.shape, yb.shape)"
   ]
  },
  {
   "cell_type": "code",
   "execution_count": 179,
   "id": "7350eb17-6382-4fb5-bc4e-eb645bba14d7",
   "metadata": {},
   "outputs": [
    {
     "name": "stdout",
     "output_type": "stream",
     "text": [
      "LR: 0.0001 → Avg Final Loss: 2.7998\n",
      "LR: 0.001 → Avg Final Loss: 2.4773\n",
      "LR: 0.01 → Avg Final Loss: 2.4487\n",
      "LR: 0.1 → Avg Final Loss: 2.8902\n"
     ]
    }
   ],
   "source": [
    "learning_rates = [1e-4, 1e-3, 1e-2, 1e-1]\n",
    "results = {}\n",
    "\n",
    "context_size = 3  \n",
    "\n",
    "for lr in learning_rates:\n",
    "    model = NameMLP(vocab_size, context_size)\n",
    "    optimizer = torch.optim.Adam(model.parameters(), lr=lr)\n",
    "    loss_log = []\n",
    "\n",
    "    for step in range(1000):\n",
    "        xb, yb = get_batch('train', batch_size=32)\n",
    "        logits = model(xb)\n",
    "        loss = F.cross_entropy(logits, yb)\n",
    "        optimizer.zero_grad()\n",
    "        loss.backward()\n",
    "        optimizer.step()\n",
    "        loss_log.append(loss.item())\n",
    "\n",
    "    results[lr] = sum(loss_log[-100:]) / 100\n",
    "\n",
    "for lr, final_loss in results.items():\n",
    "    print(f\"LR: {lr} → Avg Final Loss: {final_loss:.4f}\")\n"
   ]
  },
  {
   "cell_type": "code",
   "execution_count": 180,
   "id": "2ef6727c-a3d5-4c5e-97d9-64cc0c3e777a",
   "metadata": {},
   "outputs": [],
   "source": [
    "model = NameMLP(vocab_size, context_size)\n",
    "optimizer = torch.optim.Adam(model.parameters(), lr=0.01)"
   ]
  },
  {
   "cell_type": "code",
   "execution_count": 181,
   "id": "e6ef42bf-1259-4d72-a2f3-19a1c9aaed53",
   "metadata": {},
   "outputs": [],
   "source": [
    "scheduler = torch.optim.lr_scheduler.StepLR(optimizer, step_size=500, gamma=0.5)"
   ]
  },
  {
   "cell_type": "code",
   "execution_count": 182,
   "id": "b619174c-8cad-4113-8413-aabf9c9cb03f",
   "metadata": {},
   "outputs": [
    {
     "name": "stdout",
     "output_type": "stream",
     "text": [
      "Step 0: Train Loss = 3.7155, Dev Loss = 3.5160\n",
      "Step 100: Train Loss = 2.2826, Dev Loss = 2.5419\n",
      "Step 200: Train Loss = 2.8441, Dev Loss = 2.4804\n",
      "Step 300: Train Loss = 2.6887, Dev Loss = 2.5111\n",
      "Step 400: Train Loss = 2.6036, Dev Loss = 2.5480\n",
      "Step 500: Train Loss = 2.3671, Dev Loss = 2.5156\n",
      "Step 600: Train Loss = 2.2953, Dev Loss = 2.3484\n",
      "Step 700: Train Loss = 2.2328, Dev Loss = 2.3996\n",
      "Step 800: Train Loss = 2.8764, Dev Loss = 2.4477\n",
      "Step 900: Train Loss = 2.7075, Dev Loss = 2.3454\n",
      "Step 1000: Train Loss = 2.2169, Dev Loss = 2.4710\n",
      "Step 1100: Train Loss = 2.3107, Dev Loss = 2.3780\n",
      "Step 1200: Train Loss = 2.3926, Dev Loss = 2.3050\n",
      "Step 1300: Train Loss = 2.2511, Dev Loss = 2.3498\n",
      "Step 1400: Train Loss = 2.5462, Dev Loss = 2.3355\n",
      "Step 1500: Train Loss = 2.5240, Dev Loss = 2.4127\n",
      "Step 1600: Train Loss = 2.5774, Dev Loss = 2.3768\n",
      "Step 1700: Train Loss = 2.3853, Dev Loss = 2.3339\n",
      "Step 1800: Train Loss = 2.0662, Dev Loss = 2.4571\n",
      "Step 1900: Train Loss = 2.5646, Dev Loss = 2.4095\n",
      "Step 2000: Train Loss = 2.2723, Dev Loss = 2.3162\n",
      "Step 2100: Train Loss = 2.2282, Dev Loss = 2.3520\n",
      "Step 2200: Train Loss = 2.5912, Dev Loss = 2.3954\n",
      "Step 2300: Train Loss = 2.1419, Dev Loss = 2.3043\n",
      "Step 2400: Train Loss = 2.5013, Dev Loss = 2.3107\n",
      "Step 2500: Train Loss = 1.9521, Dev Loss = 2.4825\n",
      "Step 2600: Train Loss = 2.4121, Dev Loss = 2.2949\n",
      "Step 2700: Train Loss = 2.1682, Dev Loss = 2.2605\n",
      "Step 2800: Train Loss = 2.4499, Dev Loss = 2.3244\n",
      "Step 2900: Train Loss = 1.9756, Dev Loss = 2.3964\n",
      "Step 3000: Train Loss = 2.3118, Dev Loss = 2.2148\n",
      "Step 3100: Train Loss = 2.4754, Dev Loss = 2.2010\n",
      "Step 3200: Train Loss = 2.2157, Dev Loss = 2.4549\n",
      "Step 3300: Train Loss = 2.2299, Dev Loss = 2.2022\n",
      "Step 3400: Train Loss = 2.3195, Dev Loss = 2.4567\n",
      "Step 3500: Train Loss = 2.1892, Dev Loss = 2.1597\n",
      "Step 3600: Train Loss = 2.5222, Dev Loss = 2.3675\n",
      "Step 3700: Train Loss = 2.1673, Dev Loss = 2.2607\n",
      "Step 3800: Train Loss = 2.1266, Dev Loss = 2.3223\n",
      "Step 3900: Train Loss = 2.3997, Dev Loss = 2.3621\n",
      "Step 4000: Train Loss = 2.2154, Dev Loss = 2.4102\n",
      "Step 4100: Train Loss = 2.3877, Dev Loss = 2.3049\n",
      "Step 4200: Train Loss = 2.4853, Dev Loss = 2.3285\n",
      "Step 4300: Train Loss = 2.2837, Dev Loss = 2.2821\n",
      "Step 4400: Train Loss = 2.7709, Dev Loss = 2.3608\n",
      "Step 4500: Train Loss = 2.2420, Dev Loss = 2.2633\n",
      "Step 4600: Train Loss = 2.2535, Dev Loss = 2.2965\n",
      "Step 4700: Train Loss = 2.4909, Dev Loss = 2.2786\n",
      "Step 4800: Train Loss = 2.4593, Dev Loss = 2.4609\n",
      "Step 4900: Train Loss = 2.4569, Dev Loss = 2.3297\n"
     ]
    }
   ],
   "source": [
    "losses_train = []\n",
    "losses_dev = []\n",
    "\n",
    "for step in range(5000):\n",
    "    xb, yb = get_batch('train', batch_size=32)\n",
    "    logits = model(xb)\n",
    "    loss = F.cross_entropy(logits, yb)\n",
    "    optimizer.zero_grad()\n",
    "    loss.backward()\n",
    "    optimizer.step()\n",
    "    scheduler.step()\n",
    "\n",
    "    if step % 100 == 0:\n",
    "        with torch.no_grad():\n",
    "            xdev, ydev = get_batch('dev', batch_size=256)\n",
    "            dev_loss = F.cross_entropy(model(xdev), ydev)\n",
    "        print(f\"Step {step}: Train Loss = {loss.item():.4f}, Dev Loss = {dev_loss.item():.4f}\")\n",
    "        losses_train.append(loss.item())\n",
    "        losses_dev.append(dev_loss.item())"
   ]
  },
  {
   "cell_type": "code",
   "execution_count": 183,
   "id": "132b93ed-b9b4-4ed8-a785-03d4cf385744",
   "metadata": {},
   "outputs": [
    {
     "data": {
      "image/png": "[encoded data removed]",
      "text/plain": [
       "<Figure size 640x480 with 1 Axes>"
      ]
     },
     "metadata": {},
     "output_type": "display_data"
    }
   ],
   "source": [
    "import matplotlib.pyplot as plt\n",
    "\n",
    "plt.plot(losses_train, label='Train Loss')\n",
    "plt.plot(losses_dev, label='Dev Loss')\n",
    "plt.xlabel(\"Checkpoint\")\n",
    "plt.ylabel(\"Loss\")\n",
    "plt.title(\"Training vs Dev Loss\")\n",
    "plt.legend()\n",
    "plt.grid(True)\n",
    "plt.show()"
   ]
  },
  {
   "cell_type": "code",
   "execution_count": 184,
   "id": "7e132fdb-40eb-4cc0-adbb-db61322bb8bf",
   "metadata": {},
   "outputs": [],
   "source": [
    "class NameMLP(nn.Module):\n",
    "    def __init__(self):\n",
    "        super().__init__()\n",
    "        self.embedding = nn.Embedding(vocab_size, 10)  \n",
    "        self.hidden = nn.Linear(10 * block_size, 200)\n",
    "        self.bn1 = nn.BatchNorm1d(200)                \n",
    "        self.dropout = nn.Dropout(0.2)                 \n",
    "        self.out = nn.Linear(200, vocab_size)\n",
    "\n",
    "        # Kaiming initialization\n",
    "        nn.init.kaiming_normal_(self.hidden.weight, nonlinearity='relu')\n",
    "        nn.init.zeros_(self.hidden.bias)\n",
    "        nn.init.zeros_(self.out.bias)\n",
    "        nn.init.kaiming_normal_(self.out.weight, nonlinearity='linear')\n",
    "\n",
    "    def forward(self, x):\n",
    "        emb = self.embedding(x)              \n",
    "        emb_flat = emb.view(emb.shape[0], -1)  \n",
    "        h = self.hidden(emb_flat)\n",
    "        h = self.bn1(h)                      \n",
    "        h = F.relu(h)\n",
    "        h = self.dropout(h)                  \n",
    "        logits = self.out(h)\n",
    "        return logits"
   ]
  },
  {
   "cell_type": "code",
   "execution_count": 185,
   "id": "83890ad7-db28-44b4-af60-e67f132ef5cc",
   "metadata": {},
   "outputs": [
    {
     "name": "stdout",
     "output_type": "stream",
     "text": [
      "embedding.weight grad norm: 0.1911\n",
      "fc1.weight grad norm: 0.6249\n",
      "fc2.weight grad norm: 0.7451\n"
     ]
    }
   ],
   "source": [
    "for name, param in model.named_parameters():\n",
    "    if param.grad is not None and \"weight\" in name:\n",
    "        grad_norm = param.grad.norm().item()\n",
    "        print(f\"{name} grad norm: {grad_norm:.4f}\")"
   ]
  },
  {
   "cell_type": "code",
   "execution_count": 186,
   "id": "6022ed75-ecdd-4736-9d0f-a8fec8598f76",
   "metadata": {},
   "outputs": [
    {
     "ename": "TypeError",
     "evalue": "NameMLP.__init__() takes 1 positional argument but 3 were given",
     "output_type": "error",
     "traceback": [
      "\u001b[1;31m---------------------------------------------------------------------------\u001b[0m",
      "\u001b[1;31mTypeError\u001b[0m                                 Traceback (most recent call last)",
      "Cell \u001b[1;32mIn[186], line 3\u001b[0m\n\u001b[0;32m      1\u001b[0m block_size \u001b[38;5;241m=\u001b[39m \u001b[38;5;241m3\u001b[39m\n\u001b[0;32m      2\u001b[0m vocab_size \u001b[38;5;241m=\u001b[39m \u001b[38;5;28mlen\u001b[39m(stoi)\n\u001b[1;32m----> 3\u001b[0m model \u001b[38;5;241m=\u001b[39m NameMLP(vocab_size, block_size)\n",
      "\u001b[1;31mTypeError\u001b[0m: NameMLP.__init__() takes 1 positional argument but 3 were given"
     ]
    }
   ],
   "source": [
    "block_size = 3\n",
    "vocab_size = len(stoi)\n",
    "model = NameMLP(vocab_size, block_size)"
   ]
  },
  {
   "cell_type": "code",
   "execution_count": null,
   "id": "c099e04f-eec2-4449-8209-8973c4bdd769",
   "metadata": {},
   "outputs": [],
   "source": [
    "model.eval()\n",
    "xb, yb = get_batch('dev', batch_size=1)\n",
    "\n",
    "with torch.no_grad():\n",
    "    emb = model.embedding(xb)\n",
    "    flat = emb.view(1, -1)\n",
    "    h = model.hidden(flat)\n",
    "\n",
    "    import matplotlib.pyplot as plt\n",
    "    plt.hist(h.cpu().numpy().flatten(), bins=50)\n",
    "    plt.title(\"Hidden Layer Activations\")\n",
    "    plt.grid(True)\n",
    "    plt.show()"
   ]
  },
  {
   "cell_type": "code",
   "execution_count": null,
   "id": "cede72ec-93e8-4a23-994b-70b06b2e67b6",
   "metadata": {},
   "outputs": [],
   "source": [
    "plt.plot(losses_train, label='Train Loss')\n",
    "plt.plot(losses_dev, label='Dev Loss')\n",
    "plt.xlabel(\"Checkpoint\")\n",
    "plt.ylabel(\"Loss\")\n",
    "plt.title(\"Training vs Dev Loss\")\n",
    "plt.legend()\n",
    "plt.grid(True)\n",
    "plt.show()"
   ]
  },
  {
   "cell_type": "code",
   "execution_count": null,
   "id": "0d2e2db5-f868-4b56-9f29-91f2a17252a0",
   "metadata": {},
   "outputs": [],
   "source": [
    "import os\n",
    "import os\n",
    "import torch\n",
    "\n",
    "def save_checkpoint(model, optimizer, epoch, filepath=\"checkpoints/model_checkpoint.pth\"):\n",
    "    filepath = os.path.normpath(filepath)\n",
    "\n",
    "    directory = os.path.dirname(filepath)\n",
    "    if directory and not os.path.exists(directory):\n",
    "        os.makedirs(directory)\n",
    "\n",
    "    checkpoint = {\n",
    "        'epoch': epoch,\n",
    "        'model_state_dict': model.state_dict(),\n",
    "        'optimizer_state_dict': optimizer.state_dict(),\n",
    "    }\n",
    "    torch.save(checkpoint, filepath)\n",
    "    print(f\" Checkpoint saved at: {filepath}\")"
   ]
  },
  {
   "cell_type": "code",
   "execution_count": null,
   "id": "ef2867ce-5efc-46c6-8d19-f9e6662d37ab",
   "metadata": {},
   "outputs": [],
   "source": [
    "def load_checkpoint(model, optimizer, filepath=\"checkpoints/model_checkpoint.pth\"):\n",
    "    filepath = os.path.normpath(filepath)\n",
    "\n",
    "    if not os.path.exists(filepath):\n",
    "        print(f\" No checkpoint found at: {filepath}\")\n",
    "        return model, optimizer, 0\n",
    "    \n",
    "    checkpoint = torch.load(filepath)\n",
    "    model.load_state_dict(checkpoint['model_state_dict'])\n",
    "    optimizer.load_state_dict(checkpoint['optimizer_state_dict'])\n",
    "    epoch = checkpoint['epoch']\n",
    "    print(f\" Checkpoint loaded from: {filepath} (epoch {epoch})\")\n",
    "    return model, optimizer, epoch"
   ]
  },
  {
   "cell_type": "code",
   "execution_count": null,
   "id": "3a27b158-173f-4a7f-9717-e92c7ac39069",
   "metadata": {},
   "outputs": [],
   "source": [
    "import torch.nn.functional as F\n",
    "\n",
    "def top_p_sampling(logits, p=0.9):\n",
    "    sorted_logits, sorted_indices = torch.sort(logits, descending=True)\n",
    "    sorted_probs = F.softmax(sorted_logits, dim=-1)\n",
    "    cumulative_probs = torch.cumsum(sorted_probs, dim=-1)\n",
    "\n",
    "    sorted_indices_to_remove = cumulative_probs > p\n",
    "    sorted_indices_to_remove[..., 1:] = sorted_indices_to_remove[..., :-1].clone()\n",
    "    sorted_indices_to_remove[..., 0] = False\n",
    "\n",
    "    filtered_logits = sorted_logits.masked_fill(sorted_indices_to_remove, float('-inf'))\n",
    "\n",
    "    probs = F.softmax(filtered_logits, dim=-1)\n",
    "    next_token = torch.multinomial(probs, num_samples=1)\n",
    "    next_token = sorted_indices[next_token]\n",
    "    return next_token.item()"
   ]
  },
  {
   "cell_type": "code",
   "execution_count": null,
   "id": "617090d2-1f6d-41ea-9c2e-a97a069657e4",
   "metadata": {},
   "outputs": [],
   "source": [
    "model = NameMLP(vocab_size, block_size)\n",
    "optimizer = torch.optim.Adam(model.parameters(), lr=0.01)\n",
    "\n",
    "model, optimizer, start_epoch = load_checkpoint(model, optimizer)\n",
    "\n",
    "num_epochs = 10\n",
    "for epoch in range(start_epoch, num_epochs):\n",
    "    save_checkpoint(model, optimizer, epoch)"
   ]
  },
  {
   "cell_type": "code",
   "execution_count": null,
   "id": "028b4435-224f-485b-a195-e0983aebe504",
   "metadata": {},
   "outputs": [],
   "source": [
    "def sample_next_token(logits, temperature=1.0, top_k=None, top_p=None):\n",
    "    logits = logits / temperature\n",
    "\n",
    "    if top_k is not None:\n",
    "        top_k = min(top_k, logits.size(-1))\n",
    "        values, indices = torch.topk(logits, top_k)\n",
    "        probs = torch.zeros_like(logits).scatter_(-1, indices, F.softmax(values, dim=-1))\n",
    "    else:\n",
    "        probs = F.softmax(logits, dim=-1)\n",
    "\n",
    "    if top_p is not None:\n",
    "        sorted_probs, sorted_indices = torch.sort(probs, descending=True)\n",
    "        cumulative_probs = torch.cumsum(sorted_probs, dim=-1)\n",
    "        sorted_indices_to_remove = cumulative_probs > top_p\n",
    "        sorted_indices_to_remove[..., 1:] = sorted_indices_to_remove[..., :-1].clone()\n",
    "        sorted_indices_to_remove[..., 0] = False\n",
    "        sorted_probs = sorted_probs.masked_fill(sorted_indices_to_remove, 0.0)\n",
    "        probs = torch.zeros_like(probs).scatter_(-1, sorted_indices, sorted_probs)\n",
    "\n",
    "    probs = probs / probs.sum()  # Renormalize\n",
    "    next_token = torch.multinomial(probs, 1)\n",
    "    return next_token.item()"
   ]
  },
  {
   "cell_type": "code",
   "execution_count": null,
   "id": "70b68680-81b0-4dd8-94aa-a028cbf8c40d",
   "metadata": {},
   "outputs": [],
   "source": [
    "def generate_name(model, start_context, max_length=20, temperature=1.0, top_k=10, top_p=0.9):\n",
    "    model.eval()\n",
    "    generated = start_context[:]  \n",
    "\n",
    "    for _ in range(max_length):\n",
    "        x = torch.tensor([generated[-block_size:]], dtype=torch.long)\n",
    "        logits = model(x)\n",
    "        logits = logits[0, -1, :] \n",
    "\n",
    "        next_id = sample_next_token(logits, temperature, top_k, top_p)\n",
    "        generated.append(next_id)\n",
    "\n",
    "        if next_id == token_to_id['.']:  \n",
    "            break\n",
    "\n",
    "    return ''.join(id_to_token[i] for i in generated)"
   ]
  },
  {
   "cell_type": "code",
   "execution_count": 193,
   "id": "dd6258c9-1c47-4c32-90cc-fb408315c774",
   "metadata": {},
   "outputs": [
    {
     "name": "stdout",
     "output_type": "stream",
     "text": [
      "Step 0: loss = 4.1726\n",
      "Step 500: loss = 2.2635\n",
      "Step 1000: loss = 2.6670\n",
      "Step 1500: loss = 2.4910\n",
      "Step 2000: loss = 2.1287\n",
      "Step 2500: loss = 2.2085\n",
      "Step 3000: loss = 2.0361\n",
      "Step 3500: loss = 2.5942\n",
      "Step 4000: loss = 2.3380\n",
      "Step 4500: loss = 2.2891\n",
      "\n",
      "Generated Names (CNN):\n",
      "Kolia\n",
      "Arnellya\n",
      "Tladina\n",
      "MaÃanis\n",
      "Famiga\n",
      "[Transformer] Step 0: loss = 4.3730\n",
      "[Transformer] Step 500: loss = 2.5357\n",
      "[Transformer] Step 1000: loss = 2.6699\n",
      "[Transformer] Step 1500: loss = 2.1725\n",
      "[Transformer] Step 2000: loss = 2.2268\n",
      "[Transformer] Step 2500: loss = 2.5539\n",
      "[Transformer] Step 3000: loss = 2.5130\n",
      "[Transformer] Step 3500: loss = 2.3176\n",
      "[Transformer] Step 4000: loss = 1.8783\n",
      "[Transformer] Step 4500: loss = 2.1822\n",
      "\n",
      "Generated Names (Transformer):\n",
      "Wolde\n",
      "Sulvias\n",
      "Irebi\n",
      "Mpihano\n",
      "Blavak\n"
     ]
    }
   ],
   "source": [
    "import torch\n",
    "import torch.nn as nn\n",
    "import torch.nn.functional as F\n",
    "import matplotlib.pyplot as plt\n",
    "\n",
    "\n",
    "vocab = sorted(list(set(open('all.txt').read()) | set('.')))\n",
    "vocab_size = len(vocab)\n",
    "stoi = {ch: i for i, ch in enumerate(vocab)}\n",
    "itos = {i: ch for ch, i in stoi.items()}\n",
    "block_size = 8\n",
    "\n",
    "def encode(s): return [stoi[c] for c in s]\n",
    "def decode(l): return ''.join([itos[i] for i in l])\n",
    "\n",
    "\n",
    "data = open('all.txt').read().splitlines()\n",
    "x, y = [], []\n",
    "for name in data:\n",
    "    context = [0] * block_size\n",
    "    for ch in name + '.':\n",
    "        ix = stoi[ch]\n",
    "        x.append(context[:])\n",
    "        y.append(ix)\n",
    "        context = context[1:] + [ix]\n",
    "\n",
    "x = torch.tensor(x)\n",
    "y = torch.tensor(y)\n",
    "\n",
    "class NameCNN(nn.Module):\n",
    "    def __init__(self):\n",
    "        super().__init__()\n",
    "        self.embedding = nn.Embedding(vocab_size, 10)\n",
    "        self.conv1 = nn.Conv1d(10, 32, kernel_size=3, padding=1)\n",
    "        self.conv2 = nn.Conv1d(32, 64, kernel_size=3, padding=1)\n",
    "        self.dropout = nn.Dropout(0.2)\n",
    "        self.fc = nn.Linear(64 * block_size, vocab_size)\n",
    "\n",
    "    def forward(self, x):\n",
    "        x = self.embedding(x)        \n",
    "        x = x.permute(0, 2, 1)       \n",
    "        x = F.relu(self.conv1(x))\n",
    "        x = F.relu(self.conv2(x))\n",
    "        x = x.view(x.shape[0], -1)\n",
    "        x = self.dropout(x)\n",
    "        return self.fc(x)\n",
    "\n",
    "model = NameCNN()\n",
    "optimizer = torch.optim.Adam(model.parameters(), lr=0.001)\n",
    "losses = []\n",
    "\n",
    "for step in range(5000):\n",
    "    ix = torch.randint(0, x.shape[0], (32,))\n",
    "    xb, yb = x[ix], y[ix]\n",
    "\n",
    "    logits = model(xb)\n",
    "    loss = F.cross_entropy(logits, yb)\n",
    "\n",
    "    optimizer.zero_grad()\n",
    "    loss.backward()\n",
    "    optimizer.step()\n",
    "\n",
    "    if step % 500 == 0:\n",
    "        print(f\"Step {step}: loss = {loss.item():.4f}\")\n",
    "    losses.append(loss.item())\n",
    "\n",
    "def generate_cnn(model, max_len=20):\n",
    "    model.eval()\n",
    "    context = [0] * block_size\n",
    "    result = []\n",
    "    while True:\n",
    "        x_in = torch.tensor([context])\n",
    "        logits = model(x_in)\n",
    "        probs = F.softmax(logits, dim=-1)\n",
    "        ix = torch.multinomial(probs, num_samples=1).item()\n",
    "        context = context[1:] + [ix]\n",
    "        if ix == stoi['.'] or len(result) >= max_len:\n",
    "            break\n",
    "        result.append(ix)\n",
    "    return decode(result)\n",
    "\n",
    "print(\"\\nGenerated Names (CNN):\")\n",
    "for _ in range(5):\n",
    "    print(generate_cnn(model))\n",
    "\n",
    "class SelfAttentionHead(nn.Module):\n",
    "    def __init__(self, embed_dim):\n",
    "        super().__init__()\n",
    "        self.key = nn.Linear(embed_dim, embed_dim, bias=False)\n",
    "        self.query = nn.Linear(embed_dim, embed_dim, bias=False)\n",
    "        self.value = nn.Linear(embed_dim, embed_dim, bias=False)\n",
    "        self.register_buffer('tril', torch.tril(torch.ones(block_size, block_size)))\n",
    "\n",
    "    def forward(self, x):\n",
    "        B, T, C = x.shape\n",
    "        k = self.key(x)\n",
    "        q = self.query(x)\n",
    "        wei = q @ k.transpose(-2, -1) / (C ** 0.5)\n",
    "        wei = wei.masked_fill(self.tril[:T, :T] == 0, float('-inf'))\n",
    "        wei = F.softmax(wei, dim=-1)\n",
    "        v = self.value(x)\n",
    "        return wei @ v\n",
    "\n",
    "class TinyTransformer(nn.Module):\n",
    "    def __init__(self):\n",
    "        super().__init__()\n",
    "        self.embedding = nn.Embedding(vocab_size, 32)\n",
    "        self.attn = SelfAttentionHead(32)\n",
    "        self.ln1 = nn.LayerNorm(32)\n",
    "        self.fc = nn.Linear(32 * block_size, vocab_size)\n",
    "\n",
    "    def forward(self, x):\n",
    "        x = self.embedding(x)  # (B, T, C)\n",
    "        x = self.attn(x)\n",
    "        x = self.ln1(x)\n",
    "        x = x.view(x.shape[0], -1)\n",
    "        return self.fc(x)\n",
    "\n",
    "model_t = TinyTransformer()\n",
    "optimizer = torch.optim.Adam(model_t.parameters(), lr=0.001)\n",
    "\n",
    "for step in range(5000):\n",
    "    ix = torch.randint(0, x.shape[0], (32,))\n",
    "    xb, yb = x[ix], y[ix]\n",
    "\n",
    "    logits = model_t(xb)\n",
    "    loss = F.cross_entropy(logits, yb)\n",
    "\n",
    "    optimizer.zero_grad()\n",
    "    loss.backward()\n",
    "    optimizer.step()\n",
    "\n",
    "    if step % 500 == 0:\n",
    "        print(f\"[Transformer] Step {step}: loss = {loss.item():.4f}\")\n",
    "\n",
    "def generate_transformer(model, max_len=20):\n",
    "    model.eval()\n",
    "    context = [0] * block_size\n",
    "    result = []\n",
    "    while True:\n",
    "        x_in = torch.tensor([context])\n",
    "        logits = model(x_in)\n",
    "        probs = F.softmax(logits, dim=-1)\n",
    "        ix = torch.multinomial(probs, num_samples=1).item()\n",
    "        context = context[1:] + [ix]\n",
    "        if ix == stoi['.'] or len(result) >= max_len:\n",
    "            break\n",
    "        result.append(ix)\n",
    "    return decode(result)\n",
    "\n",
    "print(\"\\nGenerated Names (Transformer):\")\n",
    "for _ in range(5):\n",
    "    print(generate_transformer(model_t))"
   ]
  }
 ],
 "metadata": {
  "kernelspec": {
   "display_name": "Python 3 (ipykernel)",
   "language": "python",
   "name": "python3"
  },
  "language_info": {
   "codemirror_mode": {
    "name": "ipython",
    "version": 3
   },
   "file_extension": ".py",
   "mimetype": "text/x-python",
   "name": "python",
   "nbconvert_exporter": "python",
   "pygments_lexer": "ipython3",
   "version": "3.11.7"
  }
 },
 "nbformat": 4,
 "nbformat_minor": 5
}
